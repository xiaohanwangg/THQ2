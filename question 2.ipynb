{
 "cells": [
  {
   "cell_type": "code",
   "execution_count": 1,
   "metadata": {
    "collapsed": true
   },
   "outputs": [],
   "source": [
    "import pandas as pd\n",
    "import numpy as np\n",
    "import matplotlib.pyplot as plt"
   ]
  },
  {
   "cell_type": "markdown",
   "metadata": {},
   "source": [
    "Input the data."
   ]
  },
  {
   "cell_type": "code",
   "execution_count": 2,
   "metadata": {},
   "outputs": [
    {
     "data": {
      "text/html": [
       "<div>\n",
       "<style>\n",
       "    .dataframe thead tr:only-child th {\n",
       "        text-align: right;\n",
       "    }\n",
       "\n",
       "    .dataframe thead th {\n",
       "        text-align: left;\n",
       "    }\n",
       "\n",
       "    .dataframe tbody tr th {\n",
       "        vertical-align: top;\n",
       "    }\n",
       "</style>\n",
       "<table border=\"1\" class=\"dataframe\">\n",
       "  <thead>\n",
       "    <tr style=\"text-align: right;\">\n",
       "      <th></th>\n",
       "      <th>Country</th>\n",
       "      <th>Q</th>\n",
       "      <th>L</th>\n",
       "      <th>K</th>\n",
       "    </tr>\n",
       "  </thead>\n",
       "  <tbody>\n",
       "    <tr>\n",
       "      <th>0</th>\n",
       "      <td>B</td>\n",
       "      <td>80</td>\n",
       "      <td>60</td>\n",
       "      <td>50</td>\n",
       "    </tr>\n",
       "    <tr>\n",
       "      <th>1</th>\n",
       "      <td>C</td>\n",
       "      <td>150</td>\n",
       "      <td>100</td>\n",
       "      <td>100</td>\n",
       "    </tr>\n",
       "    <tr>\n",
       "      <th>2</th>\n",
       "      <td>D</td>\n",
       "      <td>135</td>\n",
       "      <td>100</td>\n",
       "      <td>80</td>\n",
       "    </tr>\n",
       "    <tr>\n",
       "      <th>3</th>\n",
       "      <td>E</td>\n",
       "      <td>165</td>\n",
       "      <td>120</td>\n",
       "      <td>100</td>\n",
       "    </tr>\n",
       "    <tr>\n",
       "      <th>4</th>\n",
       "      <td>F</td>\n",
       "      <td>95</td>\n",
       "      <td>70</td>\n",
       "      <td>60</td>\n",
       "    </tr>\n",
       "    <tr>\n",
       "      <th>5</th>\n",
       "      <td>G</td>\n",
       "      <td>130</td>\n",
       "      <td>90</td>\n",
       "      <td>80</td>\n",
       "    </tr>\n",
       "    <tr>\n",
       "      <th>6</th>\n",
       "      <td>H</td>\n",
       "      <td>110</td>\n",
       "      <td>80</td>\n",
       "      <td>70</td>\n",
       "    </tr>\n",
       "  </tbody>\n",
       "</table>\n",
       "</div>"
      ],
      "text/plain": [
       "  Country    Q    L    K\n",
       "0       B   80   60   50\n",
       "1       C  150  100  100\n",
       "2       D  135  100   80\n",
       "3       E  165  120  100\n",
       "4       F   95   70   60\n",
       "5       G  130   90   80\n",
       "6       H  110   80   70"
      ]
     },
     "execution_count": 2,
     "metadata": {},
     "output_type": "execute_result"
    }
   ],
   "source": [
    "data0 = {'Country': ['B','C','D','E','F','G','H'],\n",
    "        'Q': [80, 150, 135, 165, 95, 130, 110],\n",
    "        'L': [60, 100, 100, 120, 70, 90, 80],\n",
    "        'K': [50, 100, 80, 100, 60, 80, 70]\n",
    "}\n",
    "data = pd.DataFrame(data0, columns = [\n",
    "    'Country', 'Q', 'L', 'K'\n",
    "])\n",
    "data"
   ]
  },
  {
   "cell_type": "markdown",
   "metadata": {},
   "source": [
    "For each of the data series calculate its mean, variance, standard deviation, and median values."
   ]
  },
  {
   "cell_type": "code",
   "execution_count": 3,
   "metadata": {},
   "outputs": [
    {
     "name": "stdout",
     "output_type": "stream",
     "text": [
      "Statistics of output(Q): mean:  123.57142857142857 var:  914.2857142857143 standard deviation:  30.237157840738178 median:  130.0\n",
      "Statistics of labour(L): mean:  88.57142857142857 var:  414.2857142857143 standard deviation:  20.354009783964297 median:  90.0\n",
      "Statistics of capital(K): mean:  77.14285714285714 var:  357.14285714285717 standard deviation:  18.89822365046136 median:  80.0\n"
     ]
    }
   ],
   "source": [
    "qmn = data['Q'].mean()\n",
    "qvar = data['Q'].var()\n",
    "qstd = data['Q'].std()\n",
    "qmd = data['Q'].median()\n",
    "lmn = data['L'].mean()\n",
    "lvar = data['L'].var()\n",
    "lstd = data['L'].std()\n",
    "lmd = data['L'].median()\n",
    "kmn = data['K'].mean()\n",
    "kvar = data['K'].var()\n",
    "kstd = data['K'].std()\n",
    "kmd = data['K'].median()\n",
    "print('Statistics of output(Q): mean: ', \n",
    "      qmn, 'var: ', qvar, 'standard deviation: ',\n",
    "      qstd, 'median: ', qmd)\n",
    "print('Statistics of labour(L): mean: ', \n",
    "      lmn, 'var: ', lvar, 'standard deviation: ',\n",
    "      lstd, 'median: ', lmd)\n",
    "print('Statistics of capital(K): mean: ', \n",
    "      kmn, 'var: ', kvar, 'standard deviation: ',\n",
    "      kstd, 'median: ', kmd)"
   ]
  },
  {
   "cell_type": "markdown",
   "metadata": {},
   "source": [
    "Plot histograms of the two data series Q and L."
   ]
  },
  {
   "cell_type": "code",
   "execution_count": 5,
   "metadata": {},
   "outputs": [
    {
     "data": {
      "image/png": "[encoded data removed]",
      "text/plain": [
       "<matplotlib.figure.Figure at 0x1ec40bab908>"
      ]
     },
     "metadata": {},
     "output_type": "display_data"
    }
   ],
   "source": [
    "pl = pd.DataFrame(data0, columns = [\n",
    "    'Q', 'L',])\n",
    "pl.plot(x = data['Country'],\n",
    "        kind = 'bar',\n",
    "        color = ['b', 'y'])\n",
    "plt.show()"
   ]
  },
  {
   "cell_type": "markdown",
   "metadata": {},
   "source": [
    "Calculate and print the log values."
   ]
  },
  {
   "cell_type": "code",
   "execution_count": 6,
   "metadata": {
    "collapsed": true
   },
   "outputs": [],
   "source": [
    "import math"
   ]
  },
  {
   "cell_type": "code",
   "execution_count": 7,
   "metadata": {},
   "outputs": [
    {
     "data": {
      "text/html": [
       "<div>\n",
       "<style>\n",
       "    .dataframe thead tr:only-child th {\n",
       "        text-align: right;\n",
       "    }\n",
       "\n",
       "    .dataframe thead th {\n",
       "        text-align: left;\n",
       "    }\n",
       "\n",
       "    .dataframe tbody tr th {\n",
       "        vertical-align: top;\n",
       "    }\n",
       "</style>\n",
       "<table border=\"1\" class=\"dataframe\">\n",
       "  <thead>\n",
       "    <tr style=\"text-align: right;\">\n",
       "      <th></th>\n",
       "      <th>Country</th>\n",
       "      <th>logQ</th>\n",
       "      <th>logL</th>\n",
       "      <th>logK</th>\n",
       "    </tr>\n",
       "  </thead>\n",
       "  <tbody>\n",
       "    <tr>\n",
       "      <th>0</th>\n",
       "      <td>B</td>\n",
       "      <td>4.382027</td>\n",
       "      <td>4.094345</td>\n",
       "      <td>3.912023</td>\n",
       "    </tr>\n",
       "    <tr>\n",
       "      <th>1</th>\n",
       "      <td>C</td>\n",
       "      <td>5.010635</td>\n",
       "      <td>4.605170</td>\n",
       "      <td>4.605170</td>\n",
       "    </tr>\n",
       "    <tr>\n",
       "      <th>2</th>\n",
       "      <td>D</td>\n",
       "      <td>4.905275</td>\n",
       "      <td>4.605170</td>\n",
       "      <td>4.382027</td>\n",
       "    </tr>\n",
       "    <tr>\n",
       "      <th>3</th>\n",
       "      <td>E</td>\n",
       "      <td>5.105945</td>\n",
       "      <td>4.787492</td>\n",
       "      <td>4.605170</td>\n",
       "    </tr>\n",
       "    <tr>\n",
       "      <th>4</th>\n",
       "      <td>F</td>\n",
       "      <td>4.553877</td>\n",
       "      <td>4.248495</td>\n",
       "      <td>4.094345</td>\n",
       "    </tr>\n",
       "    <tr>\n",
       "      <th>5</th>\n",
       "      <td>G</td>\n",
       "      <td>4.867534</td>\n",
       "      <td>4.499810</td>\n",
       "      <td>4.382027</td>\n",
       "    </tr>\n",
       "    <tr>\n",
       "      <th>6</th>\n",
       "      <td>H</td>\n",
       "      <td>4.700480</td>\n",
       "      <td>4.382027</td>\n",
       "      <td>4.248495</td>\n",
       "    </tr>\n",
       "  </tbody>\n",
       "</table>\n",
       "</div>"
      ],
      "text/plain": [
       "  Country      logQ      logL      logK\n",
       "0       B  4.382027  4.094345  3.912023\n",
       "1       C  5.010635  4.605170  4.605170\n",
       "2       D  4.905275  4.605170  4.382027\n",
       "3       E  5.105945  4.787492  4.605170\n",
       "4       F  4.553877  4.248495  4.094345\n",
       "5       G  4.867534  4.499810  4.382027\n",
       "6       H  4.700480  4.382027  4.248495"
      ]
     },
     "execution_count": 7,
     "metadata": {},
     "output_type": "execute_result"
    }
   ],
   "source": [
    "logQ = [0,0,0,0,0,0,0]\n",
    "logL = [0,0,0,0,0,0,0]\n",
    "logK = [0,0,0,0,0,0,0]\n",
    "data1 = {'Country': ['B','C','D','E','F','G','H'],\n",
    "        'logQ': logQ,\n",
    "        'logL': logL,\n",
    "        'logK': logK\n",
    "}\n",
    "datalog = pd.DataFrame(data1, columns = [\n",
    "    'Country', 'logQ', 'logL', 'logK'])\n",
    "datalog['logQ'] = data['Q'].map(lambda x: math.log(int(x)))\n",
    "datalog['logL'] = data['L'].map(lambda x: math.log(int(x)))\n",
    "datalog['logK'] = data['K'].map(lambda x: math.log(int(x)))\n",
    "datalog"
   ]
  },
  {
   "cell_type": "code",
   "execution_count": 11,
   "metadata": {
    "collapsed": true
   },
   "outputs": [],
   "source": [
    "from sklearn.linear_model import LinearRegression\n",
    "lrg = LinearRegression()"
   ]
  },
  {
   "cell_type": "code",
   "execution_count": 12,
   "metadata": {},
   "outputs": [],
   "source": [
    "model = lrg.fit(datalog[['logL','logK']],datalog['logQ'])"
   ]
  },
  {
   "cell_type": "code",
   "execution_count": 13,
   "metadata": {},
   "outputs": [],
   "source": [
    "a = model.intercept_\n",
    "b = model.coef_"
   ]
  },
  {
   "cell_type": "code",
   "execution_count": 14,
   "metadata": {},
   "outputs": [
    {
     "name": "stdout",
     "output_type": "stream",
     "text": [
      "0.146233211756 [ 0.54842747  0.50874094]\n"
     ]
    }
   ],
   "source": [
    "print(a,b)"
   ]
  }
 ],
 "metadata": {
  "kernelspec": {
   "display_name": "Python 3",
   "language": "python",
   "name": "python3"
  },
  "language_info": {
   "codemirror_mode": {
    "name": "ipython",
    "version": 3
   },
   "file_extension": ".py",
   "mimetype": "text/x-python",
   "name": "python",
   "nbconvert_exporter": "python",
   "pygments_lexer": "ipython3",
   "version": "3.6.3"
  }
 },
 "nbformat": 4,
 "nbformat_minor": 2
}
